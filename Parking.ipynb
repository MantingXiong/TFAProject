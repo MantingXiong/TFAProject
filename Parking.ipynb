{
 "cells": [
  {
   "cell_type": "code",
   "execution_count": 1,
   "metadata": {},
   "outputs": [],
   "source": [
    "import pandas as pd"
   ]
  },
  {
   "cell_type": "code",
   "execution_count": 2,
   "metadata": {},
   "outputs": [
    {
     "name": "stderr",
     "output_type": "stream",
     "text": [
      "/Users/june/opt/anaconda3/lib/python3.7/site-packages/IPython/core/interactiveshell.py:3058: DtypeWarning: Columns (20,31,32) have mixed types. Specify dtype option on import or set low_memory=False.\n",
      "  interactivity=interactivity, compiler=compiler, result=result)\n"
     ]
    }
   ],
   "source": [
    "## import dataset\n",
    "data = pd.read_csv('311_Service_Requests_2020.csv')"
   ]
  },
  {
   "cell_type": "code",
   "execution_count": 3,
   "metadata": {},
   "outputs": [
    {
     "name": "stdout",
     "output_type": "stream",
     "text": [
      "<class 'pandas.core.frame.DataFrame'>\n",
      "RangeIndex: 2587316 entries, 0 to 2587315\n",
      "Data columns (total 41 columns):\n",
      "Unique Key                        int64\n",
      "Created Date                      object\n",
      "Closed Date                       object\n",
      "Agency                            object\n",
      "Agency Name                       object\n",
      "Complaint Type                    object\n",
      "Descriptor                        object\n",
      "Location Type                     object\n",
      "Incident Zip                      float64\n",
      "Incident Address                  object\n",
      "Street Name                       object\n",
      "Cross Street 1                    object\n",
      "Cross Street 2                    object\n",
      "Intersection Street 1             object\n",
      "Intersection Street 2             object\n",
      "Address Type                      object\n",
      "City                              object\n",
      "Landmark                          object\n",
      "Facility Type                     object\n",
      "Status                            object\n",
      "Due Date                          object\n",
      "Resolution Description            object\n",
      "Resolution Action Updated Date    object\n",
      "Community Board                   object\n",
      "BBL                               float64\n",
      "Borough                           object\n",
      "X Coordinate (State Plane)        float64\n",
      "Y Coordinate (State Plane)        float64\n",
      "Open Data Channel Type            object\n",
      "Park Facility Name                object\n",
      "Park Borough                      object\n",
      "Vehicle Type                      object\n",
      "Taxi Company Borough              object\n",
      "Taxi Pick Up Location             object\n",
      "Bridge Highway Name               object\n",
      "Bridge Highway Direction          object\n",
      "Road Ramp                         object\n",
      "Bridge Highway Segment            object\n",
      "Latitude                          float64\n",
      "Longitude                         float64\n",
      "Location                          object\n",
      "dtypes: float64(6), int64(1), object(34)\n",
      "memory usage: 809.3+ MB\n"
     ]
    }
   ],
   "source": [
    "data.info()"
   ]
  },
  {
   "cell_type": "code",
   "execution_count": 4,
   "metadata": {},
   "outputs": [],
   "source": [
    "## our chosen zip code is 10027\n",
    "zip_data = data[data['Incident Zip']==10027.0]"
   ]
  },
  {
   "cell_type": "code",
   "execution_count": 5,
   "metadata": {},
   "outputs": [],
   "source": [
    "## fraction of total number of parking incidents and the total number of all incidents in 10027\n",
    "zip_parking_ratio = len(zip_data[zip_data['Complaint Type'] == 'Illegal Parking'])/len(zip_data)\n",
    "\n",
    "## fraction of total number of parking incidents and the total number of all incidents across all zip codes\n",
    "all_parking_ratio = len(data[data['Complaint Type'] == 'Illegal Parking'])/len(data)"
   ]
  },
  {
   "cell_type": "code",
   "execution_count": 6,
   "metadata": {},
   "outputs": [
    {
     "data": {
      "text/plain": [
       "0.05207265952491849"
      ]
     },
     "execution_count": 6,
     "metadata": {},
     "output_type": "execute_result"
    }
   ],
   "source": [
    "zip_parking_ratio"
   ]
  },
  {
   "cell_type": "code",
   "execution_count": 7,
   "metadata": {},
   "outputs": [
    {
     "data": {
      "text/plain": [
       "0.07487334365033108"
      ]
     },
     "execution_count": 7,
     "metadata": {},
     "output_type": "execute_result"
    }
   ],
   "source": [
    "all_parking_ratio"
   ]
  },
  {
   "cell_type": "code",
   "execution_count": 8,
   "metadata": {},
   "outputs": [],
   "source": [
    "## whether illegal parking incidents are a larger fraction of total 311 incidents in your ZIP code than they are in general\n",
    "higher_parking_proportion = zip_parking_ratio > all_parking_ratio"
   ]
  },
  {
   "cell_type": "code",
   "execution_count": 9,
   "metadata": {},
   "outputs": [
    {
     "data": {
      "text/plain": [
       "False"
      ]
     },
     "execution_count": 9,
     "metadata": {},
     "output_type": "execute_result"
    }
   ],
   "source": [
    "higher_parking_proportion"
   ]
  },
  {
   "cell_type": "code",
   "execution_count": null,
   "metadata": {},
   "outputs": [],
   "source": []
  }
 ],
 "metadata": {
  "kernelspec": {
   "display_name": "Python 3",
   "language": "python",
   "name": "python3"
  },
  "language_info": {
   "codemirror_mode": {
    "name": "ipython",
    "version": 3
   },
   "file_extension": ".py",
   "mimetype": "text/x-python",
   "name": "python",
   "nbconvert_exporter": "python",
   "pygments_lexer": "ipython3",
   "version": "3.7.4"
  }
 },
 "nbformat": 4,
 "nbformat_minor": 2
}
